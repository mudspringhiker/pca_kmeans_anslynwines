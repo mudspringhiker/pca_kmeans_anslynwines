{
 "cells": [
  {
   "cell_type": "markdown",
   "metadata": {},
   "source": [
    "# Analysis of wines assayed by indicator displacement assay in the Anslyn lab, 2010\n",
    "\n",
    "Features are sensors used in assays"
   ]
  },
  {
   "cell_type": "code",
   "execution_count": 1,
   "metadata": {
    "collapsed": true
   },
   "outputs": [],
   "source": [
    "import pandas as pd\n",
    "import numpy as np"
   ]
  },
  {
   "cell_type": "code",
   "execution_count": 2,
   "metadata": {
    "collapsed": true
   },
   "outputs": [],
   "source": [
    "awines = pd.read_csv(\"5wines0720.csv\", encoding=\"utf-8\")"
   ]
  },
  {
   "cell_type": "code",
   "execution_count": 3,
   "metadata": {
    "collapsed": false
   },
   "outputs": [],
   "source": [
    "awines2 = awines.iloc[0: , 1:]"
   ]
  },
  {
   "cell_type": "code",
   "execution_count": 4,
   "metadata": {
    "collapsed": true
   },
   "outputs": [],
   "source": [
    "data = np.array(awines2)"
   ]
  },
  {
   "cell_type": "code",
   "execution_count": 5,
   "metadata": {
    "collapsed": false
   },
   "outputs": [
    {
     "data": {
      "text/plain": [
       "array([[ 0.0829,  0.0823,  0.4011, ...,  0.3121,  0.0892,  0.0919],\n",
       "       [ 0.0817,  0.0837,  0.4054, ...,  0.3159,  0.0908,  0.0896],\n",
       "       [ 0.0826,  0.0915,  0.4109, ...,  0.3222,  0.0903,  0.0903],\n",
       "       ..., \n",
       "       [ 0.0668,  0.0687,  0.4934, ...,  0.3844,  0.0972,  0.1006],\n",
       "       [ 0.0712,  0.0713,  0.4972, ...,  0.3819,  0.0947,  0.1037],\n",
       "       [ 0.0694,  0.0699,  0.4997, ...,  0.3802,  0.0992,  0.1042]])"
      ]
     },
     "execution_count": 5,
     "metadata": {},
     "output_type": "execute_result"
    }
   ],
   "source": [
    "data"
   ]
  },
  {
   "cell_type": "code",
   "execution_count": 6,
   "metadata": {
    "collapsed": true
   },
   "outputs": [],
   "source": [
    "from sklearn.decomposition import PCA"
   ]
  },
  {
   "cell_type": "code",
   "execution_count": 7,
   "metadata": {
    "collapsed": false
   },
   "outputs": [],
   "source": [
    "import matplotlib.pyplot as plt\n",
    "%matplotlib inline"
   ]
  },
  {
   "cell_type": "code",
   "execution_count": 8,
   "metadata": {
    "collapsed": false
   },
   "outputs": [],
   "source": [
    "target = awines[\"Unnamed: 0\"]"
   ]
  },
  {
   "cell_type": "code",
   "execution_count": 9,
   "metadata": {
    "collapsed": false
   },
   "outputs": [
    {
     "data": {
      "text/plain": [
       "pandas.core.series.Series"
      ]
     },
     "execution_count": 9,
     "metadata": {},
     "output_type": "execute_result"
    }
   ],
   "source": [
    "type(target)"
   ]
  },
  {
   "cell_type": "code",
   "execution_count": 10,
   "metadata": {
    "collapsed": false
   },
   "outputs": [],
   "source": [
    "target = np.array(target)"
   ]
  },
  {
   "cell_type": "code",
   "execution_count": 11,
   "metadata": {
    "collapsed": false
   },
   "outputs": [
    {
     "data": {
      "text/plain": [
       "array([u'Beaujolais', u'Beaujolais', u'Beaujolais', u'Beaujolais',\n",
       "       u'Beaujolais', u'Beaujolais', u'Beaujolais', u'Beaujolais',\n",
       "       u'Cabernet', u'Cabernet', u'Cabernet', u'Cabernet', u'Cabernet',\n",
       "       u'Cabernet', u'Cabernet', u'Cabernet', u'Merlot', u'Merlot',\n",
       "       u'Merlot', u'Merlot', u'Merlot', u'Merlot', u'Merlot', u'Merlot',\n",
       "       u'Pinot Noir', u'Pinot Noir', u'Pinot Noir', u'Pinot Noir',\n",
       "       u'Pinot Noir', u'Pinot Noir', u'Pinot Noir', u'Pinot Noir',\n",
       "       u'Shiraz', u'Shiraz', u'Shiraz', u'Shiraz', u'Shiraz', u'Shiraz',\n",
       "       u'Shiraz', u'Shiraz', u'Zinfandel BS', u'Zinfandel BS',\n",
       "       u'Zinfandel BS', u'Zinfandel BS', u'Zinfandel BS', u'Zinfandel BS',\n",
       "       u'Zinfandel BS', u'Zinfandel BS', u'Zinfandel BT', u'Zinfandel BT',\n",
       "       u'Zinfandel BT', u'Zinfandel BT', u'Zinfandel BT', u'Zinfandel BT',\n",
       "       u'Zinfandel BT', u'Zinfandel BT', u'Zinfandel C', u'Zinfandel C',\n",
       "       u'Zinfandel C', u'Zinfandel C', u'Zinfandel C', u'Zinfandel C',\n",
       "       u'Zinfandel C', u'Zinfandel C', u'Zinfandel R', u'Zinfandel R',\n",
       "       u'Zinfandel R', u'Zinfandel R', u'Zinfandel R', u'Zinfandel R',\n",
       "       u'Zinfandel R', u'Zinfandel R', u'Zinfandel SV', u'Zinfandel SV',\n",
       "       u'Zinfandel SV', u'Zinfandel SV', u'Zinfandel SV', u'Zinfandel SV',\n",
       "       u'Zinfandel SV', u'Zinfandel SV'], dtype=object)"
      ]
     },
     "execution_count": 11,
     "metadata": {},
     "output_type": "execute_result"
    }
   ],
   "source": [
    "target"
   ]
  },
  {
   "cell_type": "code",
   "execution_count": 12,
   "metadata": {
    "collapsed": true
   },
   "outputs": [],
   "source": [
    "from sklearn import preprocessing"
   ]
  },
  {
   "cell_type": "code",
   "execution_count": 13,
   "metadata": {
    "collapsed": true
   },
   "outputs": [],
   "source": [
    "target_le = preprocessing.LabelEncoder()"
   ]
  },
  {
   "cell_type": "code",
   "execution_count": 14,
   "metadata": {
    "collapsed": true
   },
   "outputs": [],
   "source": [
    "target = target_le.fit_transform(target)"
   ]
  },
  {
   "cell_type": "code",
   "execution_count": 15,
   "metadata": {
    "collapsed": false
   },
   "outputs": [
    {
     "data": {
      "text/plain": [
       "array([0, 0, 0, 0, 0, 0, 0, 0, 1, 1, 1, 1, 1, 1, 1, 1, 2, 2, 2, 2, 2, 2, 2,\n",
       "       2, 3, 3, 3, 3, 3, 3, 3, 3, 4, 4, 4, 4, 4, 4, 4, 4, 5, 5, 5, 5, 5, 5,\n",
       "       5, 5, 6, 6, 6, 6, 6, 6, 6, 6, 7, 7, 7, 7, 7, 7, 7, 7, 8, 8, 8, 8, 8,\n",
       "       8, 8, 8, 9, 9, 9, 9, 9, 9, 9, 9])"
      ]
     },
     "execution_count": 15,
     "metadata": {},
     "output_type": "execute_result"
    }
   ],
   "source": [
    "target"
   ]
  },
  {
   "cell_type": "code",
   "execution_count": 16,
   "metadata": {
    "collapsed": true
   },
   "outputs": [],
   "source": [
    "from mpl_toolkits.mplot3d import Axes3D"
   ]
  },
  {
   "cell_type": "code",
   "execution_count": 17,
   "metadata": {
    "collapsed": false
   },
   "outputs": [],
   "source": [
    "np.random.seed(5)"
   ]
  },
  {
   "cell_type": "code",
   "execution_count": 18,
   "metadata": {
    "collapsed": false
   },
   "outputs": [
    {
     "data": {
      "image/png": "[encoded data removed]",
      "text/plain": [
       "<matplotlib.figure.Figure at 0x1151e7d50>"
      ]
     },
     "metadata": {},
     "output_type": "display_data"
    }
   ],
   "source": [
    "centers = [[1, 1], [-1, -1], [1, -1]]\n",
    "fig = plt.figure(1, figsize=(4, 3))\n",
    "plt.clf()\n",
    "ax = Axes3D(fig, rect=[0,0,.95,1], elev=48, azim=134)\n",
    "plt.cla()\n",
    "\n",
    "pca = PCA(n_components=3)\n",
    "pca.fit(data)\n",
    "data = pca.transform(data)\n",
    "\n",
    "for name, label in [('Beaujolais', 0), ('Cabernet', 1), ('Merlot', 2), ('Pinot Noir', 3), ('Shiraz', 4), ('ZinfandelBS', 5), ('ZinfandelBT', 6), ('ZinfandelC', 7), ('ZinfandelR', 8), ('ZinfandelSV', 9)]:\n",
    "    ax.text3D(data[target == label, 0].mean(),\n",
    "             data[target == label, 1].mean() + .3,\n",
    "             data[target == label, 2].mean(), name,\n",
    "             horizontalalignment='center',\n",
    "             bbox=dict(alpha=.5, edgecolor='w', facecolor='w'))\n",
    "    \n",
    "target_ = np.choose(target, [1,2,3,4,5,6,7,8,9,0]).astype(np.float)\n",
    "ax.scatter(data[:, 0], data[:, 1], data[:, 2], c=target, cmap=plt.cm.spectral)\n",
    "\n",
    "ax.w_xaxis.set_ticklabels([])\n",
    "ax.w_yaxis.set_ticklabels([])\n",
    "ax.w_zaxis.set_ticklabels([])\n",
    "\n",
    "plt.show()"
   ]
  },
  {
   "cell_type": "code",
   "execution_count": 19,
   "metadata": {
    "collapsed": false
   },
   "outputs": [
    {
     "data": {
      "text/plain": [
       "array([ 0.00824568,  0.00231188,  0.00068894])"
      ]
     },
     "execution_count": 19,
     "metadata": {},
     "output_type": "execute_result"
    }
   ],
   "source": [
    "pca.explained_variance_"
   ]
  },
  {
   "cell_type": "code",
   "execution_count": 20,
   "metadata": {
    "collapsed": false
   },
   "outputs": [
    {
     "data": {
      "text/plain": [
       "array([ 0.70124122,  0.19661026,  0.05858957])"
      ]
     },
     "execution_count": 20,
     "metadata": {},
     "output_type": "execute_result"
    }
   ],
   "source": [
    "pca.explained_variance_ratio_"
   ]
  },
  {
   "cell_type": "markdown",
   "metadata": {
    "collapsed": true
   },
   "source": [
    "Results here were the same obtained from analysis using XLSTAT!"
   ]
  },
  {
   "cell_type": "code",
   "execution_count": null,
   "metadata": {
    "collapsed": true
   },
   "outputs": [],
   "source": []
  }
 ],
 "metadata": {
  "anaconda-cloud": {},
  "kernelspec": {
   "display_name": "Python [default]",
   "language": "python",
   "name": "python2"
  },
  "language_info": {
   "codemirror_mode": {
    "name": "ipython",
    "version": 2
   },
   "file_extension": ".py",
   "mimetype": "text/x-python",
   "name": "python",
   "nbconvert_exporter": "python",
   "pygments_lexer": "ipython2",
   "version": "2.7.12"
  }
 },
 "nbformat": 4,
 "nbformat_minor": 1
}
