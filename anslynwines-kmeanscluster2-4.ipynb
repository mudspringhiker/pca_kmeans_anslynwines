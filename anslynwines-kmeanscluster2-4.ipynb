{
 "cells": [
  {
   "cell_type": "markdown",
   "metadata": {},
   "source": [
    "# Analysis of same data set as anslynwines but using KMeans Clustering"
   ]
  },
  {
   "cell_type": "code",
   "execution_count": 1,
   "metadata": {
    "collapsed": true
   },
   "outputs": [],
   "source": [
    "import pandas as pd\n",
    "import numpy as np"
   ]
  },
  {
   "cell_type": "code",
   "execution_count": 2,
   "metadata": {
    "collapsed": true
   },
   "outputs": [],
   "source": [
    "awines = pd.read_csv(\"5wines0720.csv\", encoding=\"utf-8\")"
   ]
  },
  {
   "cell_type": "code",
   "execution_count": 3,
   "metadata": {
    "collapsed": false
   },
   "outputs": [
    {
     "data": {
      "text/plain": [
       "80"
      ]
     },
     "execution_count": 3,
     "metadata": {},
     "output_type": "execute_result"
    }
   ],
   "source": [
    "len(awines)"
   ]
  },
  {
   "cell_type": "markdown",
   "metadata": {},
   "source": [
    "Removing other Zinfandel wines, retaining only one."
   ]
  },
  {
   "cell_type": "code",
   "execution_count": 4,
   "metadata": {
    "collapsed": false
   },
   "outputs": [],
   "source": [
    "awines = awines.iloc[0:48 , :]"
   ]
  },
  {
   "cell_type": "code",
   "execution_count": 5,
   "metadata": {
    "collapsed": false
   },
   "outputs": [],
   "source": [
    "data = np.array(awines.iloc[: , 1:])"
   ]
  },
  {
   "cell_type": "code",
   "execution_count": 6,
   "metadata": {
    "collapsed": true
   },
   "outputs": [],
   "source": [
    "from sklearn.decomposition import PCA"
   ]
  },
  {
   "cell_type": "code",
   "execution_count": 7,
   "metadata": {
    "collapsed": false
   },
   "outputs": [],
   "source": [
    "import matplotlib.pyplot as plt\n",
    "%matplotlib inline"
   ]
  },
  {
   "cell_type": "code",
   "execution_count": 8,
   "metadata": {
    "collapsed": false
   },
   "outputs": [],
   "source": [
    "target = awines[\"Unnamed: 0\"]"
   ]
  },
  {
   "cell_type": "code",
   "execution_count": 9,
   "metadata": {
    "collapsed": false
   },
   "outputs": [],
   "source": [
    "target = np.array(target)"
   ]
  },
  {
   "cell_type": "code",
   "execution_count": 10,
   "metadata": {
    "collapsed": false
   },
   "outputs": [
    {
     "data": {
      "text/plain": [
       "array([u'Beaujolais', u'Beaujolais', u'Beaujolais', u'Beaujolais',\n",
       "       u'Beaujolais', u'Beaujolais', u'Beaujolais', u'Beaujolais',\n",
       "       u'Cabernet', u'Cabernet', u'Cabernet', u'Cabernet', u'Cabernet',\n",
       "       u'Cabernet', u'Cabernet', u'Cabernet', u'Merlot', u'Merlot',\n",
       "       u'Merlot', u'Merlot', u'Merlot', u'Merlot', u'Merlot', u'Merlot',\n",
       "       u'Pinot Noir', u'Pinot Noir', u'Pinot Noir', u'Pinot Noir',\n",
       "       u'Pinot Noir', u'Pinot Noir', u'Pinot Noir', u'Pinot Noir',\n",
       "       u'Shiraz', u'Shiraz', u'Shiraz', u'Shiraz', u'Shiraz', u'Shiraz',\n",
       "       u'Shiraz', u'Shiraz', u'Zinfandel BS', u'Zinfandel BS',\n",
       "       u'Zinfandel BS', u'Zinfandel BS', u'Zinfandel BS', u'Zinfandel BS',\n",
       "       u'Zinfandel BS', u'Zinfandel BS'], dtype=object)"
      ]
     },
     "execution_count": 10,
     "metadata": {},
     "output_type": "execute_result"
    }
   ],
   "source": [
    "target"
   ]
  },
  {
   "cell_type": "code",
   "execution_count": 11,
   "metadata": {
    "collapsed": true
   },
   "outputs": [],
   "source": [
    "from sklearn import preprocessing"
   ]
  },
  {
   "cell_type": "code",
   "execution_count": 12,
   "metadata": {
    "collapsed": true
   },
   "outputs": [],
   "source": [
    "target_le = preprocessing.LabelEncoder()"
   ]
  },
  {
   "cell_type": "code",
   "execution_count": 13,
   "metadata": {
    "collapsed": true
   },
   "outputs": [],
   "source": [
    "target = target_le.fit_transform(target)"
   ]
  },
  {
   "cell_type": "code",
   "execution_count": 14,
   "metadata": {
    "collapsed": false
   },
   "outputs": [
    {
     "data": {
      "text/plain": [
       "array([0, 0, 0, 0, 0, 0, 0, 0, 1, 1, 1, 1, 1, 1, 1, 1, 2, 2, 2, 2, 2, 2, 2,\n",
       "       2, 3, 3, 3, 3, 3, 3, 3, 3, 4, 4, 4, 4, 4, 4, 4, 4, 5, 5, 5, 5, 5, 5,\n",
       "       5, 5])"
      ]
     },
     "execution_count": 14,
     "metadata": {},
     "output_type": "execute_result"
    }
   ],
   "source": [
    "target"
   ]
  },
  {
   "cell_type": "code",
   "execution_count": 15,
   "metadata": {
    "collapsed": true
   },
   "outputs": [],
   "source": [
    "from mpl_toolkits.mplot3d import Axes3D"
   ]
  },
  {
   "cell_type": "code",
   "execution_count": 16,
   "metadata": {
    "collapsed": false
   },
   "outputs": [],
   "source": [
    "np.random.seed(5)"
   ]
  },
  {
   "cell_type": "code",
   "execution_count": 17,
   "metadata": {
    "collapsed": true
   },
   "outputs": [],
   "source": [
    "from sklearn.cluster import KMeans"
   ]
  },
  {
   "cell_type": "code",
   "execution_count": 18,
   "metadata": {
    "collapsed": false
   },
   "outputs": [
    {
     "data": {
      "image/png": "[encoded data removed]",
      "text/plain": [
       "<matplotlib.figure.Figure at 0x115488090>"
      ]
     },
     "metadata": {},
     "output_type": "display_data"
    }
   ],
   "source": [
    "centers = [[1, 1], [-1, -1], [1, -1]]\n",
    "fig = plt.figure(1, figsize=(4, 3))\n",
    "plt.clf()\n",
    "ax = Axes3D(fig, rect=[0,0,.95,1], elev=48, azim=134)\n",
    "plt.cla()\n",
    "\n",
    "kmeans = KMeans(n_clusters=4)\n",
    "kmeans.fit(data)\n",
    "data = kmeans.transform(data)\n",
    "\n",
    "for name, label in [('Beaujolais', 0), ('Cabernet', 1), ('Merlot', 2), ('Pinot Noir', 3), ('Shiraz', 4), ('ZinfandelBS', 5)]:\n",
    "    ax.text3D(data[target == label, 0].mean(),\n",
    "             data[target == label, 1].mean() + .4,\n",
    "             data[target == label, 2].mean(), name,\n",
    "             horizontalalignment='center',\n",
    "             bbox=dict(alpha=.5, edgecolor='w', facecolor='w'))\n",
    "    \n",
    "target_ = np.choose(target, [1,2,3,4,5,0]).astype(np.float)\n",
    "ax.scatter(data[:, 0], data[:, 1], data[:, 2], c=target, cmap=plt.cm.spectral)\n",
    "\n",
    "ax.w_xaxis.set_ticklabels([])\n",
    "ax.w_yaxis.set_ticklabels([])\n",
    "ax.w_zaxis.set_ticklabels([])\n",
    "\n",
    "plt.show()"
   ]
  },
  {
   "cell_type": "code",
   "execution_count": 19,
   "metadata": {
    "collapsed": false
   },
   "outputs": [
    {
     "data": {
      "text/plain": [
       "array([3, 0, 0, 0, 3, 0, 0, 0, 1, 2, 1, 1, 1, 1, 1, 1, 3, 3, 3, 3, 3, 0, 0,\n",
       "       0, 1, 1, 1, 1, 1, 1, 1, 1, 3, 3, 3, 3, 0, 0, 3, 0, 2, 2, 2, 2, 2, 2,\n",
       "       2, 2], dtype=int32)"
      ]
     },
     "execution_count": 19,
     "metadata": {},
     "output_type": "execute_result"
    }
   ],
   "source": [
    "kmeans.labels_"
   ]
  },
  {
   "cell_type": "code",
   "execution_count": 20,
   "metadata": {
    "collapsed": false
   },
   "outputs": [
    {
     "data": {
      "text/plain": [
       "array([[ 0.08126667,  0.08234167,  0.41179167,  0.43051667,  0.8305    ,\n",
       "         0.83136667,  0.07734167,  0.08053333,  0.39888333,  0.41833333,\n",
       "         0.79620833,  0.79794167,  0.26663333,  0.2666    ,  0.30606667,\n",
       "         0.32106667,  0.10156667,  0.10261667],\n",
       "       [ 0.06992667,  0.0696    ,  0.51378   ,  0.5093    ,  0.87092   ,\n",
       "         0.85650667,  0.06800667,  0.06827333,  0.49827333,  0.49386   ,\n",
       "         0.8356    ,  0.82227333,  0.25317333,  0.24589333,  0.39756   ,\n",
       "         0.39790667,  0.10210667,  0.10370667],\n",
       "       [ 0.07073333,  0.07257778,  0.48204444,  0.48772222,  0.82435556,\n",
       "         0.80954444,  0.06777778,  0.06993333,  0.46753333,  0.47428889,\n",
       "         0.79192222,  0.77862222,  0.24128889,  0.23726667,  0.36496667,\n",
       "         0.37176667,  0.09743333,  0.10268889],\n",
       "       [ 0.0816    ,  0.08161667,  0.4188    ,  0.42771667,  0.78868333,\n",
       "         0.80126667,  0.07776667,  0.07999167,  0.40585833,  0.41510833,\n",
       "         0.75789167,  0.77139167,  0.26638333,  0.26640833,  0.3131    ,\n",
       "         0.32006667,  0.10103333,  0.10558333]])"
      ]
     },
     "execution_count": 20,
     "metadata": {},
     "output_type": "execute_result"
    }
   ],
   "source": [
    "kmeans.cluster_centers_"
   ]
  },
  {
   "cell_type": "code",
   "execution_count": 21,
   "metadata": {
    "collapsed": false
   },
   "outputs": [
    {
     "data": {
      "text/plain": [
       "<bound method KMeans.get_params of KMeans(algorithm='auto', copy_x=True, init='k-means++', max_iter=300,\n",
       "    n_clusters=4, n_init=10, n_jobs=1, precompute_distances='auto',\n",
       "    random_state=None, tol=0.0001, verbose=0)>"
      ]
     },
     "execution_count": 21,
     "metadata": {},
     "output_type": "execute_result"
    }
   ],
   "source": [
    "kmeans.get_params"
   ]
  },
  {
   "cell_type": "markdown",
   "metadata": {
    "collapsed": true
   },
   "source": [
    "Need to do gridsearchcv for optimal n_clusters."
   ]
  },
  {
   "cell_type": "code",
   "execution_count": null,
   "metadata": {
    "collapsed": true
   },
   "outputs": [],
   "source": []
  }
 ],
 "metadata": {
  "anaconda-cloud": {},
  "kernelspec": {
   "display_name": "Python [default]",
   "language": "python",
   "name": "python2"
  },
  "language_info": {
   "codemirror_mode": {
    "name": "ipython",
    "version": 2
   },
   "file_extension": ".py",
   "mimetype": "text/x-python",
   "name": "python",
   "nbconvert_exporter": "python",
   "pygments_lexer": "ipython2",
   "version": "2.7.12"
  }
 },
 "nbformat": 4,
 "nbformat_minor": 1
}
